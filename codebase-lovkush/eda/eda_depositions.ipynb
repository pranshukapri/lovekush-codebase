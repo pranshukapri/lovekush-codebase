{
 "cells": [
  {
   "cell_type": "code",
   "execution_count": null,
   "metadata": {},
   "outputs": [],
   "source": [
    "import os\n",
    "import re\n",
    "import pandas as pd\n",
    "import numpy as np\n",
    "\n",
    "from random import randint\n",
    "\n",
    "from sklearn.feature_extraction import text #to access stop words\n",
    "from sklearn.feature_extraction.text import CountVectorizer\n",
    "from sklearn.feature_extraction.text import TfidfVectorizer\n",
    "\n",
    "from sklearn.decomposition import PCA\n",
    "from sklearn.manifold import TSNE\n",
    "import umap\n",
    "\n",
    "from sklearn.cluster import AgglomerativeClustering\n",
    "\n",
    "from bokeh.plotting import figure, output_notebook, show, ColumnDataSource\n",
    "from bokeh.models import HoverTool, CategoricalColorMapper\n",
    "from bokeh.palettes import d3\n",
    "from bokeh.transform import factor_cmap\n",
    "\n",
    "output_notebook()"
   ]
  },
  {
   "cell_type": "code",
   "execution_count": null,
   "metadata": {},
   "outputs": [],
   "source": [
    "dir_name = '../data_preprocessed_csv/'"
   ]
  },
  {
   "cell_type": "code",
   "execution_count": null,
   "metadata": {},
   "outputs": [],
   "source": [
    "filenames = os.listdir(dir_name)"
   ]
  },
  {
   "cell_type": "code",
   "execution_count": null,
   "metadata": {},
   "outputs": [],
   "source": [
    "corpus = []\n",
    "for filename in filenames:\n",
    "    df = pd.read_csv(dir_name + filename, index_col = 0)\n",
    "    df = df[df.text_type.isin(['a','q'])]\n",
    "    try:\n",
    "        corpus.append(' '.join(df.text.values))\n",
    "    except:\n",
    "        print(filename)"
   ]
  },
  {
   "cell_type": "code",
   "execution_count": null,
   "metadata": {},
   "outputs": [],
   "source": [
    "# words that were deemed uninformative were manually added to a text file word_to_remove.txt.\n",
    "# this was done manually - there was no formal criteria used to decide which words to remove.\n",
    "with open('words_to_remove.txt', 'r') as f:\n",
    "    words_to_remove = [word.strip('\\n') for word in f.readlines()]\n",
    "\n",
    "my_stop_words = text.ENGLISH_STOP_WORDS.union(words_to_remove)"
   ]
  },
  {
   "cell_type": "code",
   "execution_count": null,
   "metadata": {},
   "outputs": [],
   "source": [
    "tfidf_vectorizer = TfidfVectorizer(use_idf = True, stop_words = my_stop_words)\n",
    "vectors = tfidf_vectorizer.fit_transform(corpus).toarray()\n",
    "features = tfidf_vectorizer.get_feature_names()"
   ]
  },
  {
   "cell_type": "code",
   "execution_count": null,
   "metadata": {},
   "outputs": [],
   "source": [
    "# for each deposition, find the 10 features with the largest weights. these are the keywords for that deposition\n",
    "# can change the number 10 to whatever you want\n",
    "keywords = []\n",
    "for i, row in enumerate(vectors):\n",
    "    df_temp = pd.DataFrame({\"Features\": features, \"Weight\": row})\n",
    "    words = df_temp.sort_values(by = 'Weight', axis = 0, ascending = False).head(10).Features.values\n",
    "    keywords.append(', '.join(words))"
   ]
  },
  {
   "cell_type": "code",
   "execution_count": null,
   "metadata": {},
   "outputs": [],
   "source": [
    "# clustering done before dimension reduction. might be worth experimenting and swapping the order of this\n",
    "# also can experiment with number of clusters.\n",
    "clustering = AgglomerativeClustering(n_clusters = 10).fit(vectors)\n",
    "clusters = clustering.labels_"
   ]
  },
  {
   "cell_type": "code",
   "execution_count": null,
   "metadata": {},
   "outputs": [],
   "source": [
    "tfidf1_tsne = TSNE(random_state = 0).fit_transform(vectors)\n",
    "tfidf1_umap = umap.UMAP(random_state = 0).fit_transform(vectors)"
   ]
  },
  {
   "cell_type": "code",
   "execution_count": null,
   "metadata": {},
   "outputs": [],
   "source": [
    "x = tfidf1_tsne[:, 0]\n",
    "y = tfidf1_tsne[:, 1]\n",
    "\n",
    "# categorical variables have to be strings in bokeh\n",
    "clusters_s = [f'{i}' for i in clusters]\n",
    "\n",
    "source = ColumnDataSource(\n",
    "    data=dict(\n",
    "        x=x,\n",
    "        y=y,\n",
    "        filenames=filenames,\n",
    "        keywords=keywords,\n",
    "        clusters = clusters_s\n",
    "    )\n",
    ")\n",
    "\n",
    "palette = d3['Category10'][10]\n",
    "color_map = CategoricalColorMapper(factors=[f'{i}' for i in range(10)],\n",
    "                                   palette=palette)\n",
    "\n",
    "TOOLS=\"box_zoom,hover,reset\"\n",
    "p = figure(tools=TOOLS)\n",
    "p.background_fill_color = \"black\"\n",
    "p.xgrid.grid_line_color = None\n",
    "p.ygrid.grid_line_color = None\n",
    "\n",
    "p.scatter(x='x', y='y',\n",
    "          color={'field': 'clusters', 'transform': color_map},\n",
    "          source=source)\n",
    "\n",
    "hover = p.select(dict(type=HoverTool))\n",
    "hover.tooltips = [\n",
    "    (\"filename\", \"@filenames\"),\n",
    "    (\"keywords\", \"@keywords\")\n",
    "]\n",
    "\n",
    "show(p)"
   ]
  },
  {
   "cell_type": "code",
   "execution_count": null,
   "metadata": {},
   "outputs": [],
   "source": [
    "x = tfidf1_umap[:, 0]\n",
    "y = tfidf1_umap[:, 1]\n",
    "\n",
    "# categorical variables have to be strings in bokeh\n",
    "clusters_s = [f'{i}' for i in clusters]\n",
    "\n",
    "source = ColumnDataSource(\n",
    "    data=dict(\n",
    "        x=x,\n",
    "        y=y,\n",
    "        filenames=filenames,\n",
    "        keywords=keywords,\n",
    "        clusters = clusters_s\n",
    "    )\n",
    ")\n",
    "\n",
    "palette = d3['Category10'][10]\n",
    "color_map = CategoricalColorMapper(factors=[f'{i}' for i in range(10)],\n",
    "                                   palette=palette)\n",
    "\n",
    "TOOLS=\"box_zoom,hover,reset\"\n",
    "p = figure(tools=TOOLS)\n",
    "p.background_fill_color = \"black\"\n",
    "p.xgrid.grid_line_color = None\n",
    "p.ygrid.grid_line_color = None\n",
    "\n",
    "p.scatter(x='x', y='y',\n",
    "          color={'field': 'clusters', 'transform': color_map},\n",
    "          source=source)\n",
    "\n",
    "hover = p.select(dict(type=HoverTool))\n",
    "hover.tooltips = [\n",
    "    (\"filename\", \"@filenames\"),\n",
    "    (\"keywords\", \"@keywords\")\n",
    "]\n",
    "\n",
    "show(p)"
   ]
  }
 ],
 "metadata": {
  "kernelspec": {
   "display_name": "Python [conda env:Python3]",
   "language": "python",
   "name": "conda-env-Python3-py"
  },
  "language_info": {
   "codemirror_mode": {
    "name": "ipython",
    "version": 3
   },
   "file_extension": ".py",
   "mimetype": "text/x-python",
   "name": "python",
   "nbconvert_exporter": "python",
   "pygments_lexer": "ipython3",
   "version": "3.6.10"
  }
 },
 "nbformat": 4,
 "nbformat_minor": 2
}
