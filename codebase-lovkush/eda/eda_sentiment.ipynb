{
 "cells": [
  {
   "cell_type": "code",
   "execution_count": null,
   "metadata": {},
   "outputs": [],
   "source": [
    "import os\n",
    "import pandas as pd\n",
    "\n",
    "import pickle\n",
    "\n",
    "from tqdm.notebook import tqdm\n",
    "\n",
    "from vaderSentiment.vaderSentiment import SentimentIntensityAnalyzer\n",
    "\n",
    "from bokeh.plotting import figure, output_notebook, show, ColumnDataSource\n",
    "from bokeh.models import HoverTool\n",
    "output_notebook()"
   ]
  },
  {
   "cell_type": "code",
   "execution_count": null,
   "metadata": {},
   "outputs": [],
   "source": [
    "dir_name = \"../data_preprocessed_csv/\""
   ]
  },
  {
   "cell_type": "code",
   "execution_count": null,
   "metadata": {},
   "outputs": [],
   "source": [
    "filenames = os.listdir(dir_name)"
   ]
  },
  {
   "cell_type": "code",
   "execution_count": null,
   "metadata": {},
   "outputs": [],
   "source": [
    "def create_list_of_sentiments_from_filename(filename):\n",
    "    df = pd.read_csv(dir_name + filename, index_col=0)\n",
    "    analyzer = SentimentIntensityAnalyzer()\n",
    "    sentiments = []\n",
    "    for text in tqdm(df.text.values[1:]):\n",
    "        sentiment = analyzer.polarity_scores(text)\n",
    "        sentiments.append(sentiment[\"compound\"])\n",
    "\n",
    "    return df, sentiments\n",
    "\n",
    "\n",
    "def plot_sentiments(df, sentiments):\n",
    "    source = ColumnDataSource(\n",
    "        data=dict(\n",
    "            x=list(range(len(sentiments))),\n",
    "            y=sentiments,\n",
    "            label=df.text.values[1:]\n",
    "        )\n",
    "    )\n",
    "    TOOLS = \"box_zoom,hover,reset\"\n",
    "    p = figure(title=\"Vader Sentiment Analysis\", tools=TOOLS)\n",
    "    p.circle(\"x\", \"y\", line_width=2, source=source)\n",
    "    p.line(\"x\", \"y\", line_width=1, source=source)\n",
    "\n",
    "    hover = p.select(dict(type=HoverTool))\n",
    "    hover.tooltips = [\n",
    "        (\"label\", \"@label\"),\n",
    "    ]\n",
    "\n",
    "    show(p)\n",
    "\n",
    "    return None"
   ]
  },
  {
   "cell_type": "code",
   "execution_count": null,
   "metadata": {},
   "outputs": [],
   "source": [
    "filename = filenames[0]\n",
    "df, sentiments = create_list_of_sentiments_from_filename(filename)\n",
    "plot_sentiments(df, sentiments)"
   ]
  },
  {
   "cell_type": "code",
   "execution_count": null,
   "metadata": {},
   "outputs": [],
   "source": [
    "filename = 'SBruhl.csv'\n",
    "df, sentiments = create_list_of_sentiments_from_filename(filename)\n",
    "plot_sentiments(df, sentiments)"
   ]
  },
  {
   "cell_type": "code",
   "execution_count": null,
   "metadata": {},
   "outputs": [],
   "source": [
    "filename = filenames[1]\n",
    "print(filename)\n",
    "df, sentiments = create_list_of_sentiments_from_filename(filename)\n",
    "plot_sentiments(df, sentiments)"
   ]
  },
  {
   "cell_type": "code",
   "execution_count": null,
   "metadata": {},
   "outputs": [],
   "source": [
    "filename = filenames[3]\n",
    "print(filename)\n",
    "df, sentiments = create_list_of_sentiments_from_filename(filename)\n",
    "plot_sentiments(df, sentiments)"
   ]
  },
  {
   "cell_type": "code",
   "execution_count": null,
   "metadata": {},
   "outputs": [],
   "source": [
    "filename = filenames[4]\n",
    "print(filename)\n",
    "df, sentiments = create_list_of_sentiments_from_filename(filename)\n",
    "plot_sentiments(df, sentiments)"
   ]
  },
  {
   "cell_type": "code",
   "execution_count": null,
   "metadata": {},
   "outputs": [],
   "source": [
    "filename = filenames[5]\n",
    "print(filename)\n",
    "df, sentiments = create_list_of_sentiments_from_filename(filename)\n",
    "plot_sentiments(df, sentiments)"
   ]
  },
  {
   "cell_type": "code",
   "execution_count": null,
   "metadata": {},
   "outputs": [],
   "source": [
    "filename = filenames[6]\n",
    "print(filename)\n",
    "df, sentiments = create_list_of_sentiments_from_filename(filename)\n",
    "plot_sentiments(df, sentiments)"
   ]
  },
  {
   "cell_type": "code",
   "execution_count": null,
   "metadata": {},
   "outputs": [],
   "source": [
    "filename = filenames[7]\n",
    "print(filename)\n",
    "df, sentiments = create_list_of_sentiments_from_filename(filename)\n",
    "plot_sentiments(df, sentiments)"
   ]
  }
 ],
 "metadata": {
  "kernelspec": {
   "display_name": "Python [conda env:Python3]",
   "language": "python",
   "name": "conda-env-Python3-py"
  },
  "language_info": {
   "codemirror_mode": {
    "name": "ipython",
    "version": 3
   },
   "file_extension": ".py",
   "mimetype": "text/x-python",
   "name": "python",
   "nbconvert_exporter": "python",
   "pygments_lexer": "ipython3",
   "version": "3.6.10"
  }
 },
 "nbformat": 4,
 "nbformat_minor": 2
}
