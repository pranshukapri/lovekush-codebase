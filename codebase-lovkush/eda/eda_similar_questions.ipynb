{
 "cells": [
  {
   "cell_type": "code",
   "execution_count": null,
   "metadata": {},
   "outputs": [],
   "source": [
    "import os\n",
    "import numpy as np\n",
    "import pandas as pd\n",
    "\n",
    "import tensorflow_hub as hub"
   ]
  },
  {
   "cell_type": "code",
   "execution_count": null,
   "metadata": {},
   "outputs": [],
   "source": [
    "dir_name = '/project/data_preprocessed_csv/'"
   ]
  },
  {
   "cell_type": "code",
   "execution_count": null,
   "metadata": {},
   "outputs": [],
   "source": [
    "df_metadata = pd.read_csv(\"/project/preprocessing/metadata.csv\", index_col=0)"
   ]
  },
  {
   "cell_type": "code",
   "execution_count": null,
   "metadata": {},
   "outputs": [],
   "source": [
    "cases = df_metadata.groupby('case').case.count().index.values\n",
    "print(cases)"
   ]
  },
  {
   "cell_type": "code",
   "execution_count": null,
   "metadata": {},
   "outputs": [],
   "source": [
    "case = cases[2]\n",
    "print(case)"
   ]
  },
  {
   "cell_type": "code",
   "execution_count": null,
   "metadata": {},
   "outputs": [],
   "source": [
    "filenames = df_metadata.loc[\n",
    "    df_metadata.case == case, \"filename\"\n",
    "    ].tolist()\n",
    "print(filenames)"
   ]
  },
  {
   "cell_type": "code",
   "execution_count": null,
   "metadata": {},
   "outputs": [],
   "source": [
    "# produce frame containing questions and answers from all depositions from the chosen case\n",
    "df_aq = pd.DataFrame(columns=[\"text\", \"text_type\", \"filename\"])\n",
    "for filename in filenames:\n",
    "    df_individual_full = pd.read_csv(dir_name + filename[:-3] + 'csv', index_col=0)\n",
    "    \n",
    "    indices = df_individual_full.text_type.isin([\"a\", \"q\"])\n",
    "    \n",
    "    df_individual_aq = pd.DataFrame(columns=[\"text\", \"text_type\", \"filename\"])\n",
    "    df_individual_aq[\"text\"] = df_individual_full.loc[indices, \"text\"]\n",
    "    df_individual_aq[\"text_type\"] = df_individual_full.loc[indices, \"text_type\"]\n",
    "    df_individual_aq[\"filename\"] = filename[:-4]\n",
    "\n",
    "    df_aq = pd.concat([df_aq, df_individual_aq], axis=0, ignore_index=True)\n",
    "\n",
    "# for each question, determine if it was answered\n",
    "# if yes, add that answer to new column\n",
    "indices = (df_aq.text_type == 'q') & (df_aq.text_type.shift(-1) == 'a')\n",
    "indices_a = indices.shift(1)\n",
    "indices_a[0] = False\n",
    "df_aq.loc[indices, 'answer'] = df_aq.loc[indices_a, 'text'].values\n",
    "\n",
    "# create subframe of questions\n",
    "df_q = df_aq.loc[df_aq.text_type == 'q', ['text', 'answer', 'filename']]\n",
    "df_q.head(10)"
   ]
  },
  {
   "cell_type": "code",
   "execution_count": null,
   "metadata": {},
   "outputs": [],
   "source": [
    "embed = hub.load(\"https://tfhub.dev/google/universal-sentence-encoder/4\")\n",
    "df_q['vectors'] = embed(df_q.text).numpy().tolist()\n",
    "df_q.head()"
   ]
  },
  {
   "cell_type": "code",
   "execution_count": null,
   "metadata": {},
   "outputs": [],
   "source": [
    "question = 'what is your name'"
   ]
  },
  {
   "cell_type": "code",
   "execution_count": null,
   "metadata": {},
   "outputs": [],
   "source": [
    "question_vector = embed([question])[0].numpy()\n",
    "df_q['similarity'] = np.array(df_q.vectors.tolist()) @ question_vector.T\n",
    "df_q.sort_values(by=\"similarity\", axis=0, ascending=False, inplace=True)"
   ]
  },
  {
   "cell_type": "code",
   "execution_count": null,
   "metadata": {},
   "outputs": [],
   "source": [
    "num = 10\n",
    "for i in range(num):\n",
    "    index = df_q.index[i]\n",
    "    similarity = df_q.loc[index, \"similarity\"]\n",
    "    question = df_q.loc[index, \"text\"]\n",
    "    answer = df_q.loc[index, \"answer\"]\n",
    "    filename = df_q.loc[index, \"filename\"]\n",
    "\n",
    "    print(f\"Question similarity score: {similarity}\")\n",
    "    print(f\"Question: {question}\")\n",
    "    print(f\"Answer: {answer}\")\n",
    "    print(f\"Deposition: {filename}\")\n",
    "    print(f\"Index in df_aq: {index}\")\n",
    "    print(\"=\" * 10)"
   ]
  }
 ],
 "metadata": {
  "kernelspec": {
   "display_name": "Python [conda env:Python3]",
   "language": "python",
   "name": "conda-env-Python3-py"
  },
  "language_info": {
   "codemirror_mode": {
    "name": "ipython",
    "version": 3
   },
   "file_extension": ".py",
   "mimetype": "text/x-python",
   "name": "python",
   "nbconvert_exporter": "python",
   "pygments_lexer": "ipython3",
   "version": "3.6.10"
  }
 },
 "nbformat": 4,
 "nbformat_minor": 2
}
