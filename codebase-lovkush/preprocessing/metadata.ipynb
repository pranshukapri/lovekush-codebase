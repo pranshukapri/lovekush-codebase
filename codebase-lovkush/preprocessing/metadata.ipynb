{
 "cells": [
  {
   "cell_type": "code",
   "execution_count": null,
   "metadata": {},
   "outputs": [],
   "source": [
    "import os\n",
    "import pandas as pd\n",
    "\n",
    "dir_name = \"../data_preprocessed/\"\n",
    "dir_name_csv = \"../data_preprocessed_csv/\""
   ]
  },
  {
   "cell_type": "markdown",
   "metadata": {},
   "source": [
    "## manually create metadata csv"
   ]
  },
  {
   "cell_type": "code",
   "execution_count": null,
   "metadata": {},
   "outputs": [],
   "source": [
    "df = pd.DataFrame(columns=[\"filename\", \"case\", \"date\", \"deponent\", \"other\"])\n",
    "df['filename'] = os.listdir(dir_name)"
   ]
  },
  {
   "cell_type": "code",
   "execution_count": null,
   "metadata": {},
   "outputs": [],
   "source": [
    "def save_metadata(df):\n",
    "    df.to_csv(\"metadata.csv\")\n",
    "\n",
    "def manually_input_metadata(df):\n",
    "    for index, row in df[df.case.isnull()].iterrows():\n",
    "        print(row.filename)\n",
    "        df.loc[index, 'case'] = input('Case: ')\n",
    "        df.loc[index, 'date'] = input('Date: ')\n",
    "        df.loc[index, 'deponent'] = input('Deponent: ')\n",
    "        df.loc[index, 'other'] = input('Other: ')\n",
    "        \n",
    "        save_metadata(df)"
   ]
  },
  {
   "cell_type": "code",
   "execution_count": null,
   "metadata": {},
   "outputs": [],
   "source": [
    "filename = dir_name+'81919_Alona_Shchogol.txt'\n",
    "with open(filename, 'r') as f:\n",
    "    lines = f.readlines()\n",
    "\n",
    "for line in lines[0:150]:\n",
    "    print(line)"
   ]
  },
  {
   "cell_type": "code",
   "execution_count": null,
   "metadata": {},
   "outputs": [],
   "source": [
    "manually_input_metadata(df_metadata)"
   ]
  },
  {
   "cell_type": "markdown",
   "metadata": {},
   "source": [
    "## manually modify metadata csv"
   ]
  },
  {
   "cell_type": "code",
   "execution_count": null,
   "metadata": {},
   "outputs": [],
   "source": [
    "df_metadata = pd.read_csv('metadata.csv', index_col = 0)"
   ]
  },
  {
   "cell_type": "code",
   "execution_count": null,
   "metadata": {},
   "outputs": [],
   "source": [
    "df_metadata.loc[df_metadata.case=='KURARAY AMERICA']"
   ]
  },
  {
   "cell_type": "code",
   "execution_count": null,
   "metadata": {},
   "outputs": [],
   "source": [
    "df_metadata.case = df_metadata.case.map(lambda x: x.upper())"
   ]
  },
  {
   "cell_type": "code",
   "execution_count": null,
   "metadata": {},
   "outputs": [],
   "source": [
    "df_metadata.sort_values(by=\"case\", inplace=True)\n",
    "for index, row in df_metadata.iterrows():\n",
    "    print(row.case)"
   ]
  },
  {
   "cell_type": "code",
   "execution_count": null,
   "metadata": {},
   "outputs": [],
   "source": [
    "save_metadata(df_metadata)"
   ]
  }
 ],
 "metadata": {
  "kernelspec": {
   "display_name": "Python [conda env:Python3]",
   "language": "python",
   "name": "conda-env-Python3-py"
  },
  "language_info": {
   "codemirror_mode": {
    "name": "ipython",
    "version": 3
   },
   "file_extension": ".py",
   "mimetype": "text/x-python",
   "name": "python",
   "nbconvert_exporter": "python",
   "pygments_lexer": "ipython3",
   "version": "3.6.10"
  }
 },
 "nbformat": 4,
 "nbformat_minor": 2
}
